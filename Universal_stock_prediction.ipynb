{
 "cells": [
  {
   "cell_type": "code",
   "execution_count": 1,
   "id": "e2c80786-7e83-4a42-bb0d-a56549a48ce6",
   "metadata": {},
   "outputs": [],
   "source": [
    "import yfinance as yf\n",
    "import pandas as pd\n",
    "from sklearn.model_selection import train_test_split\n",
    "from sklearn.linear_model import LinearRegression\n",
    "from sklearn.metrics import mean_squared_error\n",
    "import numpy as np\n",
    "import matplotlib.pyplot as plt"
   ]
  },
  {
   "cell_type": "code",
   "execution_count": 2,
   "id": "fdba9b27-fc56-48d8-a104-e579ec6be3fc",
   "metadata": {},
   "outputs": [],
   "source": [
    "TICKER_OPTIONS = {\n",
    "    '1': ('Apple', 'AAPL'),\n",
    "    '2': ('Microsoft', 'MSFT'),\n",
    "    '3': ('Google', 'GOOGL'),\n",
    "    '4': ('Amazon', 'AMZN'),\n",
    "    '5': ('NVIDIA', 'NVDA'),\n",
    "    '6': ('Tesla', 'TSLA'),\n",
    "    '7': ('Meta (Facebook)', 'META'),\n",
    "    '8': ('Berkshire Hathaway', 'BRK-B'),\n",
    "    '9': ('Reliance Industries', 'RELIANCE.NS'),\n",
    "    '10': ('Tata Consultancy (TCS)', 'TCS.NS'),\n",
    "    '11': ('HDFC Bank', 'HDFCBANK.NS'),\n",
    "    '12': ('Infosys', 'INFY.NS'),\n",
    "    '13': ('ICICI Bank', 'ICICIBANK.NS'),\n",
    "    '14': ('State Bank of India', 'SBIN.NS'),\n",
    "    '15': ('Larsen & Toubro', 'LT.NS'),\n",
    "    '16': ('ITC Limited', 'ITC.NS'),\n",
    "    '0': ('Other', 'MANUAL_INPUT') # Special option for manual entry\n",
    "}"
   ]
  },
  {
   "cell_type": "code",
   "execution_count": null,
   "id": "dac8a2c7-bb8b-4077-b486-d5d13575d196",
   "metadata": {},
   "outputs": [
    {
     "name": "stdout",
     "output_type": "stream",
     "text": [
      "Please choose a stock from the options below:\n",
      "  1: Apple\n",
      "  2: Microsoft\n",
      "  3: Google\n",
      "  4: Amazon\n",
      "  5: NVIDIA\n",
      "  6: Tesla\n",
      "  7: Meta (Facebook)\n",
      "  8: Berkshire Hathaway\n",
      "  9: Reliance Industries\n",
      "  10: Tata Consultancy (TCS)\n",
      "  11: HDFC Bank\n",
      "  12: Infosys\n",
      "  13: ICICI Bank\n",
      "  14: State Bank of India\n",
      "  15: Larsen & Toubro\n",
      "  16: ITC Limited\n",
      "  0: Other (Enter any ticker manually)\n"
     ]
    }
   ],
   "source": [
    "print(\"Please choose a stock from the options below:\")\n",
    "for key, (name, ticker) in TICKER_OPTIONS.items():\n",
    "    if key != '0':\n",
    "        print(f\"  {key}: {name}\")\n",
    "print(f\"  {key}: {TICKER_OPTIONS['0'][0]} (Enter any ticker manually)\")\n",
    "\n",
    "choice = \"\"\n",
    "stock_ticker = \"\"\n",
    "while choice not in TICKER_OPTIONS:\n",
    "    choice = input(\"Enter your choice number: \").strip()\n",
    "    if choice not in TICKER_OPTIONS:\n",
    "        print(\"Invalid choice. Please select a number from the list.\")"
   ]
  },
  {
   "cell_type": "code",
   "execution_count": null,
   "id": "a4ed4267-4ba3-4c74-907d-cf9279007bbe",
   "metadata": {},
   "outputs": [],
   "source": [
    "chosen_name, chosen_ticker = TICKER_OPTIONS[choice]\n",
    "\n",
    "if chosen_ticker == 'MANUAL_INPUT':\n",
    "    print(\"\\nExamples for custom tickers:\")\n",
    "    print(\"US Market: JPM, V | Indian Market: WIPRO.NS, KOTAKBANK.NS\")\n",
    "    stock_ticker = input(\"Please enter the custom stock ticker symbol: \").upper()\n",
    "else:\n",
    "    stock_ticker = chosen_ticker"
   ]
  },
  {
   "cell_type": "code",
   "execution_count": null,
   "id": "23c64934-77d9-40c4-882d-8dc6a68121b9",
   "metadata": {},
   "outputs": [],
   "source": [
    "YEAR_OPTIONS = ['2025', '2026', '2027']\n",
    "print(\"\\nPlease choose the year for this model run:\")\n",
    "print(\", \".join(YEAR_OPTIONS))\n",
    "\n",
    "chosen_year = \"\"\n",
    "while chosen_year not in YEAR_OPTIONS:\n",
    "    chosen_year = input(\"Enter the year: \").strip()\n",
    "    if chosen_year not in YEAR_OPTIONS:\n",
    "        print(\"Invalid year. Please choose from the list.\")\n",
    "\n",
    "print(f\"\\nBuilding model for '{stock_ticker}' for the year {chosen_year}...\")\n"
   ]
  },
  {
   "cell_type": "code",
   "execution_count": null,
   "id": "5203f9ab-cf73-41b5-9246-b0fd2ba674b6",
   "metadata": {},
   "outputs": [],
   "source": [
    "try:\n",
    "    ticker_info = yf.Ticker(stock_ticker)\n",
    "    stock_data = ticker_info.history(period=\"15y\")\n",
    "    \n",
    "    # Get the company's full name, fall back to ticker if not found\n",
    "    company_name = ticker_info.info.get('longName', stock_ticker)\n",
    "    \n",
    "    if stock_data.empty:\n",
    "        print(f\"No data found for ticker '{stock_ticker}'. Please check the symbol and try again.\")\n",
    "        exit()\n",
    "except Exception as e:\n",
    "    print(f\"An error occurred: {e}\")\n",
    "    print(f\"Could not retrieve data for '{stock_ticker}'. Please ensure the ticker is correct.\")\n",
    "    exit()"
   ]
  },
  {
   "cell_type": "code",
   "execution_count": null,
   "id": "3c02aed8-a01a-4a7d-92ff-6102d91bac8c",
   "metadata": {},
   "outputs": [],
   "source": [
    "df = stock_data[['Close']].copy()\n",
    "df['Prev_Close'] = df['Close'].shift(1)\n",
    "df.dropna(inplace=True)\n",
    "\n",
    "print(f\"\\nData for '{company_name}' downloaded and prepared successfully.\")\n",
    "print(df.tail()) # Show the last 5 rows of data\n"
   ]
  },
  {
   "cell_type": "code",
   "execution_count": null,
   "id": "d3b00c8c-bf91-45d1-812a-33e8c80009a2",
   "metadata": {},
   "outputs": [],
   "source": [
    "X = df[['Prev_Close']] # Feature\n",
    "y = df['Close']      # Target"
   ]
  },
  {
   "cell_type": "code",
   "execution_count": null,
   "id": "7a5d1406-173c-4e86-9b27-850a8c7d4d3d",
   "metadata": {},
   "outputs": [],
   "source": [
    "X_train, X_test, y_train, y_test = train_test_split(X, y, test_size=0.2, shuffle=False)"
   ]
  },
  {
   "cell_type": "code",
   "execution_count": null,
   "id": "d398750f-77e7-4f5e-91af-2391210fa54e",
   "metadata": {},
   "outputs": [],
   "source": [
    "model = LinearRegression()\n",
    "model.fit(X_train, y_train)\n",
    "print(\"\\nModel training complete.\")"
   ]
  },
  {
   "cell_type": "code",
   "execution_count": null,
   "id": "52286cf7-d5fd-4c1c-a9ac-c3a363b6840a",
   "metadata": {},
   "outputs": [],
   "source": [
    "predictions = model.predict(X_test)\n",
    "mse = mean_squared_error(y_test, predictions)\n",
    "print(f\"Model Mean Squared Error (a measure of error): {mse:.2f}\")"
   ]
  },
  {
   "cell_type": "code",
   "execution_count": null,
   "id": "98ba3b82-5525-405c-887b-72f3fc6b8966",
   "metadata": {},
   "outputs": [],
   "source": [
    "last_known_price = df['Close'].iloc[-1]\n",
    "# Create a DataFrame with the correct feature name to avoid the warning\n",
    "prediction_input = pd.DataFrame([[last_known_price]], columns=['Prev_Close'])\n",
    "next_day_prediction = model.predict(prediction_input)"
   ]
  },
  {
   "cell_type": "code",
   "execution_count": null,
   "id": "4f77cc0d-26b0-4bb6-8535-995abc6b8e15",
   "metadata": {},
   "outputs": [],
   "source": [
    "print(\"\\n------------------ PREDICTION RESULT ------------------\")\n",
    "print(f\"🏢 Company: {company_name} ({stock_ticker})\")\n",
    "print(f\"🗓️ Last Known Price: ${last_known_price:.2f}\")\n",
    "print(f\"🎯 Predicted Next Day Price: ${next_day_prediction[0]:.2f}\")\n",
    "print(\"-------------------------------------------------------\")"
   ]
  },
  {
   "cell_type": "code",
   "execution_count": null,
   "id": "63312eab-c462-438c-9afd-fc35bd8965cb",
   "metadata": {},
   "outputs": [],
   "source": [
    "plt.figure(figsize=(14, 7))\n",
    "plt.plot(y_train.index, y_train, color='blue', label='Training Data (Historical)')\n",
    "plt.plot(y_test.index, y_test, color='green', label='Actual Price (Test Data)')\n",
    "plt.plot(y_test.index, predictions, color='red', linestyle='--', label='Predicted Price')\n",
    "\n",
    "plt.title(f'Stock Price Prediction for {company_name} ({stock_ticker})', fontsize=16)\n",
    "plt.xlabel('Date', fontsize=12)\n",
    "plt.ylabel('Stock Price ($)', fontsize=12)\n",
    "plt.legend()\n",
    "plt.grid(True)\n",
    "plt.tight_layout()"
   ]
  },
  {
   "cell_type": "code",
   "execution_count": null,
   "id": "c87494da-766e-440b-a1fd-b3eff2469ccd",
   "metadata": {},
   "outputs": [],
   "source": [
    "graph_filename = 'stock_prediction_graph.png'\n",
    "plt.savefig(graph_filename)\n",
    "print(f\"\\n📈 A graph of the prediction has been saved as '{graph_filename}'\")"
   ]
  }
 ],
 "metadata": {
  "kernelspec": {
   "display_name": "Python 3 (ipykernel)",
   "language": "python",
   "name": "python3"
  },
  "language_info": {
   "codemirror_mode": {
    "name": "ipython",
    "version": 3
   },
   "file_extension": ".py",
   "mimetype": "text/x-python",
   "name": "python",
   "nbconvert_exporter": "python",
   "pygments_lexer": "ipython3",
   "version": "3.13.5"
  }
 },
 "nbformat": 4,
 "nbformat_minor": 5
}
